{
 "cells": [
  {
   "cell_type": "markdown",
   "metadata": {},
   "source": [
    "# Impacto da Campanha de Marketing\n"
   ]
  },
  {
   "cell_type": "code",
   "execution_count": 1,
   "metadata": {},
   "outputs": [
    {
     "name": "stdout",
     "output_type": "stream",
     "text": [
      "Python version: 3.12.4\n"
     ]
    }
   ],
   "source": [
    "# Versão Python\n",
    "from platform import python_version\n",
    "print('Python version: {}' .format(python_version()))"
   ]
  },
  {
   "cell_type": "code",
   "execution_count": null,
   "metadata": {},
   "outputs": [],
   "source": [
    "# Importação das bibliotecas necessárias\n",
    "!pip install summarytools\n",
    "\n",
    "from summarytools import dfSummary\n",
    "from sklearn import datasets\n",
    "\n",
    "import pandas as pd\n",
    "import numpy as np\n",
    "import math\n",
    "import statistics \n",
    "import matplotlib.pyplot as plt \n",
    "import scipy.stats as stats \n",
    "from scipy.stats import norm\n",
    "from sklearn.model_selection import train_test_split\n",
    "from scipy.stats import ttest_ind, levene"
   ]
  },
  {
   "cell_type": "markdown",
   "metadata": {},
   "source": [
    "#### Gerando os dados randômicos"
   ]
  },
  {
   "cell_type": "code",
   "execution_count": 4,
   "metadata": {},
   "outputs": [],
   "source": [
    "n_observacoes = 1_000_000\n",
    "\n",
    "data = {\n",
    "    'id' : range(1, n_observacoes + 1),\n",
    "    'vendas' : np.random.normal(loc = 500, scale = 50, size = n_observacoes)\n",
    "}\n",
    "\n",
    "df_vendas = pd.DataFrame(data)\n"
   ]
  },
  {
   "cell_type": "markdown",
   "metadata": {},
   "source": [
    "#### Extraindo uma amostra dos nossos dados"
   ]
  },
  {
   "attachments": {
    "image.png": {
     "image/png": "[encoded data removed]"
    }
   },
   "cell_type": "markdown",
   "metadata": {},
   "source": [
    "![image.png](attachment:image.png)"
   ]
  },
  {
   "cell_type": "code",
   "execution_count": 5,
   "metadata": {},
   "outputs": [
    {
     "name": "stdout",
     "output_type": "stream",
     "text": [
      "Valor Z: 1.959963984540054\n",
      "O tamanho da amostra necessário: 9604\n"
     ]
    }
   ],
   "source": [
    "nivel_confianca = 0.95\n",
    "margem_erro = 0.01\n",
    "p = 0.5\n",
    "\n",
    "# Calculamos o Valor Z para o nível de confiança\n",
    "z = norm.ppf(1 - (1 - nivel_confianca) / 2)       # 1.96 para 95% de confiança\n",
    "print('Valor Z:', z)\n",
    "\n",
    "# Calcula o tamanho da amostra\n",
    "n = ((z ** 2) * p * (1 - p)) / (margem_erro ** 2)\n",
    "n = math.ceil(n)              # Arredonda para o próximo número inteiro\n",
    "\n",
    "print(f'O tamanho da amostra necessário: {n}')"
   ]
  },
  {
   "cell_type": "markdown",
   "metadata": {},
   "source": [
    "#### Extraindo a amostra dos dados"
   ]
  },
  {
   "cell_type": "code",
   "execution_count": 6,
   "metadata": {},
   "outputs": [],
   "source": [
    "amostra = df_vendas.sample(n = n, random_state = 42)       # random_state usado para reprodutibilidade\n",
    "\n",
    "\n",
    "# Caso queira salvar a amostra em um arquivo .csv\n",
    "# amostra.to_csv('amostra_vendas.csv', index = False)"
   ]
  },
  {
   "cell_type": "markdown",
   "metadata": {},
   "source": [
    "#### Summary\n",
    "\n",
    "O objetivo é observar as estatísticas de cada coluna e se há simetria ou não entre os dados, de uma forma mais visual.\n",
    "\n",
    "Também obtemos informações como o tipo de cada coluna e se há valores nulos."
   ]
  },
  {
   "cell_type": "code",
   "execution_count": 7,
   "metadata": {},
   "outputs": [
    {
     "data": {
      "text/html": [
       "<style type=\"text/css\">\n",
       "#T_b480f thead>tr>th {\n",
       "  text-align: left;\n",
       "}\n",
       "#T_b480f_row0_col0, #T_b480f_row1_col0 {\n",
       "  text-align: left;\n",
       "  font-size: 12px;\n",
       "  vertical-align: middle;\n",
       "  width: 5%;\n",
       "  max-width: 50px;\n",
       "  min-width: 20px;\n",
       "}\n",
       "#T_b480f_row0_col1, #T_b480f_row1_col1 {\n",
       "  text-align: left;\n",
       "  font-size: 12px;\n",
       "  vertical-align: middle;\n",
       "  width: 15%;\n",
       "  max-width: 200px;\n",
       "  min-width: 100px;\n",
       "  word-break: break-word;\n",
       "}\n",
       "#T_b480f_row0_col2, #T_b480f_row1_col2 {\n",
       "  text-align: left;\n",
       "  font-size: 12px;\n",
       "  vertical-align: middle;\n",
       "  width: 30%;\n",
       "  min-width: 100px;\n",
       "}\n",
       "#T_b480f_row0_col3, #T_b480f_row1_col3 {\n",
       "  text-align: left;\n",
       "  font-size: 12px;\n",
       "  vertical-align: middle;\n",
       "  width: 25%;\n",
       "  min-width: 100px;\n",
       "}\n",
       "#T_b480f_row0_col4, #T_b480f_row1_col4 {\n",
       "  text-align: left;\n",
       "  font-size: 12px;\n",
       "  vertical-align: middle;\n",
       "  width: 20%;\n",
       "  min-width: 150px;\n",
       "}\n",
       "#T_b480f_row0_col5, #T_b480f_row1_col5 {\n",
       "  text-align: left;\n",
       "  font-size: 12px;\n",
       "  vertical-align: middle;\n",
       "  width: 10%;\n",
       "}\n",
       "</style>\n",
       "<table id=\"T_b480f\">\n",
       "  <caption><strong>Data Frame Summary</strong><br>amostra<br>Dimensions: 9,604 x 2<br>Duplicates: 0</caption>\n",
       "  <thead>\n",
       "    <tr>\n",
       "      <th id=\"T_b480f_level0_col0\" class=\"col_heading level0 col0\" >No</th>\n",
       "      <th id=\"T_b480f_level0_col1\" class=\"col_heading level0 col1\" >Variable</th>\n",
       "      <th id=\"T_b480f_level0_col2\" class=\"col_heading level0 col2\" >Stats / Values</th>\n",
       "      <th id=\"T_b480f_level0_col3\" class=\"col_heading level0 col3\" >Freqs / (% of Valid)</th>\n",
       "      <th id=\"T_b480f_level0_col4\" class=\"col_heading level0 col4\" >Graph</th>\n",
       "      <th id=\"T_b480f_level0_col5\" class=\"col_heading level0 col5\" >Missing</th>\n",
       "    </tr>\n",
       "  </thead>\n",
       "  <tbody>\n",
       "    <tr>\n",
       "      <td id=\"T_b480f_row0_col0\" class=\"data row0 col0\" >1</td>\n",
       "      <td id=\"T_b480f_row0_col1\" class=\"data row0 col1\" ><strong>id</strong><br>[int64]</td>\n",
       "      <td id=\"T_b480f_row0_col2\" class=\"data row0 col2\" >Mean (sd) : 499128.5 (290077.9)<br>min < med < max:<br>79.0 < 498113.5 < 999593.0<br>IQR (CV) : 506818.2 (1.7)</td>\n",
       "      <td id=\"T_b480f_row0_col3\" class=\"data row0 col3\" >9,604 distinct values</td>\n",
       "      <td id=\"T_b480f_row0_col4\" class=\"data row0 col4\" ><img src = \"data:image/png;base64, iVBORw0KGgoAAAANSUhEUgAAAKoAAABGCAYAAABc8A97AAAAOXRFWHRTb2Z0d2FyZQBNYXRwbG90bGliIHZlcnNpb24zLjguNCwgaHR0cHM6Ly9tYXRwbG90bGliLm9yZy8fJSN1AAAACXBIWXMAAA9hAAAPYQGoP6dpAAACuUlEQVR4nO3ZvW7aUByG8deQD5NQI5SUbCwdK3VgZOkd9GK7dkuk5AYydOmUJYqEHCPcIIihQ5WqUiXAPjHwps9vTQ4cx8/fB5RouVwK2HeNXW8A2MTBrjeA/RFFUUvSUcBLzJbL5dNr7edvhApJvyM9Ozv7kiRJt+prjMfjNIqir3XEujbUwClrSFpUXCvVOKH4x1GSJN3hcPjU6XSmZRdnWRZfXV31RqPReRRF4wrvv/Jerww1ZMqKojjM8/xDu93+0Wg05mXXS9Lj4+MkiqJvkkr/4RQY+Q4HdKfD2el0pr1e72fZdXmeH87n80/9fr/ZbDZL3691T+N1T9TKU3Z3d9e9vb19PxgMvl9cXKRl1krS/f39u5ubm8/9fv+8jgtfZZcDGjic0o5Cn81mB3EcnwwGg2nZ+51lWXx9fd0djUZHkiqFKqnalKVp2pKk09PTShOapmkr5MIDj6Gk3W73hsPheJsDGjqcUr2fEzdR9X5Laq364d5/mapy4aHH0Hw+j4ui+Hh8fHy5zQENGU5psyeTq70PtYqQY0j681Q8eX5+btaxv3UCnkoqiiKRlERRVHZpslgsDqu85za8yVBfhHzsqGM/dQs5SV5Okel0eimp0pDU6U2H+r8JOUl2fYqsQ6hvUNXPx3Xt5zXwv35YIFRYIFRYIFRYIFRYIFRYIFRYIFRYIFRYIFRYIFRYIFRYIFRYIFRYIFRYIFRYIFRYIFRYIFRYIFRYIFRYIFRYIFRYIFRYIFRYIFRYIFRYIFRYIFRYIFRYIFRYIFRYIFRYIFRYIFRYIFRYIFRYIFRYIFRYIFRYIFRYIFRYIFRYIFRYIFRYIFRYIFRYIFRYIFRYIFRYIFRYIFRYIFRYIFRYIFRYIFRYONjkl7Isi8u+8GQyiSUpz/P44eHhZJvrXd/bdd+h6zfp6xfxuHz32AQEaQAAAABJRU5ErkJggg==\"></img></td>\n",
       "      <td id=\"T_b480f_row0_col5\" class=\"data row0 col5\" >0<br>(0.0%)</td>\n",
       "    </tr>\n",
       "    <tr>\n",
       "      <td id=\"T_b480f_row1_col0\" class=\"data row1 col0\" >2</td>\n",
       "      <td id=\"T_b480f_row1_col1\" class=\"data row1 col1\" ><strong>vendas</strong><br>[float64]</td>\n",
       "      <td id=\"T_b480f_row1_col2\" class=\"data row1 col2\" >Mean (sd) : 499.7 (49.9)<br>min < med < max:<br>323.0 < 499.6 < 674.9<br>IQR (CV) : 67.4 (10.0)</td>\n",
       "      <td id=\"T_b480f_row1_col3\" class=\"data row1 col3\" >9,604 distinct values</td>\n",
       "      <td id=\"T_b480f_row1_col4\" class=\"data row1 col4\" ><img src = \"data:image/png;base64, iVBORw0KGgoAAAANSUhEUgAAAKoAAABGCAYAAABc8A97AAAAOXRFWHRTb2Z0d2FyZQBNYXRwbG90bGliIHZlcnNpb24zLjguNCwgaHR0cHM6Ly9tYXRwbG90bGliLm9yZy8fJSN1AAAACXBIWXMAAA9hAAAPYQGoP6dpAAACo0lEQVR4nO3dT07bQBiG8W8a/jiB2oqQwi4XqNRFlj5ED9sjsGDRNTdggxDIIsLFiuO4m1ZqJUprT4znnTy//ZBZPFhK5PnGtW1rQOg+jL0B4H8cjb2BGDnnpmZ20nP5pm3bl33uJwaEumfOuenFxcWXNE3nfdav1+vCOfeVWP9EqH/h8VRMz8/PF3mer7Msq7osfHp6Sq6vr+ePj48nZkaovyHUV/g8Feu6Tpqm+XR6enq1WCy+9/j4aY810SPU152kaTrP8/yl61Px9vZ2fnNzM9tut5OhNneICPUNWZZVXZ+KRVHwRBwAP09BAqFCAqFCAqFCAqFCAqFCAqFCAqFCAqFCAqFCAqFCAqFCAqFCAqFCAqFCAqFCAqFCAqFCAqFCQrRnpjyHQKS73e54n/uBnyhD9R0C8evIc1VVV2bW58hzb03THJtZ6pzr+yeinLQSZajmcdzZbLwjz2VZHtd1/Xm5XE4mk0nnfZvFO2kl1lDNrN9xZ7PxjjxvNpujJElmq9Wqury8LLquj3nSStShqjo7O+v1D/ZTlHMF+NYPCYQKCYQKCYQKCYQKCYQKCYQKCYQKCYQKCYQKCYQKCYQKCYQKCYQKCYQKCYQKCYQKCYQKCYQKCYQKCYQKCZxCjYznAItgh1cEHarHWJ6DHMnjO8Ai5OEVwYbqM5ZnzJE8Y/IZYBH68IpgQzWPsTxjjeQJhccAi2CHV4Qcqpn1G8sz1kgeDIdv/ZBAqJBAqJBAqJBAqJBAqJBAqJAw6O+o3EyiJeSLLgYLVflmkkMU+kUXQz5RJW8mOVShX3Txz1B932DKsqxQupnk0PlcdNE0TWoDvWL4Zqj7eIPp4eHhW9e1ZmbPz8+JmVlZlsn9/f3svdaO+dmq+zYzu7u7+zjkK4Y/AEdQcR0qAQqLAAAAAElFTkSuQmCC\"></img></td>\n",
       "      <td id=\"T_b480f_row1_col5\" class=\"data row1 col5\" >0<br>(0.0%)</td>\n",
       "    </tr>\n",
       "  </tbody>\n",
       "</table>\n"
      ],
      "text/plain": [
       "<pandas.io.formats.style.Styler at 0x7facf51b9640>"
      ]
     },
     "execution_count": 7,
     "metadata": {},
     "output_type": "execute_result"
    }
   ],
   "source": [
    "dfSummary(amostra)"
   ]
  },
  {
   "cell_type": "markdown",
   "metadata": {},
   "source": [
    "#### Divisão do Grupo Tratamento\n"
   ]
  },
  {
   "cell_type": "code",
   "execution_count": 28,
   "metadata": {},
   "outputs": [],
   "source": [
    "proporcao_tratamento = 0.7\n",
    "\n",
    "grupo_tratamento, grupo_controle = train_test_split(\n",
    "    amostra, test_size = 1 - proporcao_tratamento, random_state = 42\n",
    ")"
   ]
  },
  {
   "cell_type": "code",
   "execution_count": 29,
   "metadata": {},
   "outputs": [
    {
     "name": "stdout",
     "output_type": "stream",
     "text": [
      "Tamanho_GT:  6722\n",
      "Tamanho_GC:  2882\n"
     ]
    }
   ],
   "source": [
    "# Contagem dos valores de vendas para GT\n",
    "print(\"Tamanho_GT: \", grupo_tratamento['vendas'].count())\n",
    "\n",
    "# Contagem dos valores de vendas para GC\n",
    "print(\"Tamanho_GC: \",grupo_controle['vendas'].count())"
   ]
  },
  {
   "cell_type": "markdown",
   "metadata": {},
   "source": [
    "#### Simulação Após a Campanha"
   ]
  },
  {
   "cell_type": "code",
   "execution_count": 32,
   "metadata": {},
   "outputs": [],
   "source": [
    "# Grupo que recebeu a campanha\n",
    "grupo_tratamento['vendas_campanha'] =  grupo_tratamento['vendas'] + np.random.normal(loc = 30, scale = 10, size = len(grupo_tratamento))\n",
    "\n",
    "# Grupo que não recebeu a campanha\n",
    "grupo_controle['vendas_campanha'] = grupo_controle['vendas'] + np.random.normal(loc = 0, scale = 10, size = len(grupo_controle))"
   ]
  },
  {
   "cell_type": "code",
   "execution_count": 33,
   "metadata": {},
   "outputs": [
    {
     "name": "stdout",
     "output_type": "stream",
     "text": [
      "            id      vendas  vendas_campanha       Grupo\n",
      "614658  614659  511.080610       534.934553  Tratamento\n",
      "631567  631568  385.121028       420.890391  Tratamento\n",
      "596499  596500  490.942402       520.401140  Tratamento\n",
      "218060  218061  640.517380       698.146111  Tratamento \n",
      "\n",
      "            id      vendas  vendas_campanha     Grupo\n",
      "813642  813643  455.009146       456.968938  Controle\n",
      "193389  193390  440.357057       432.845782  Controle\n",
      "151611  151612  554.302402       564.800461  Controle\n",
      "704935  704936  463.568278       456.242816  Controle\n"
     ]
    }
   ],
   "source": [
    "# Criação da coluna Grupo com os dados de tratamento e controle. Importante quando unirmos as tabelas e termos \n",
    "# os dados separados de que é GT e GC.\n",
    "grupo_tratamento['Grupo'] = \"Tratamento\"\n",
    "grupo_controle['Grupo'] = \"Controle\"\n",
    "\n",
    "print(grupo_tratamento.head(4),'\\n')\n",
    "print(grupo_controle.head(4))"
   ]
  },
  {
   "cell_type": "markdown",
   "metadata": {},
   "source": [
    "#### União entre o grupo que foi exposto à campanha de marketing e o que não foi exposto."
   ]
  },
  {
   "cell_type": "code",
   "execution_count": 34,
   "metadata": {},
   "outputs": [
    {
     "data": {
      "application/vnd.microsoft.datawrangler.viewer.v0+json": {
       "columns": [
        {
         "name": "index",
         "rawType": "int64",
         "type": "integer"
        },
        {
         "name": "id",
         "rawType": "int64",
         "type": "integer"
        },
        {
         "name": "vendas",
         "rawType": "float64",
         "type": "float"
        },
        {
         "name": "vendas_campanha",
         "rawType": "float64",
         "type": "float"
        },
        {
         "name": "Grupo",
         "rawType": "object",
         "type": "string"
        }
       ],
       "conversionMethod": "pd.DataFrame",
       "ref": "0a200746-c258-44c1-8c33-0449a66370b2",
       "rows": [
        [
         "614658",
         "614659",
         "511.08060961523506",
         "534.9345529078179",
         "Tratamento"
        ],
        [
         "631567",
         "631568",
         "385.1210282682074",
         "420.8903906441468",
         "Tratamento"
        ],
        [
         "596499",
         "596500",
         "490.942401857472",
         "520.4011399598029",
         "Tratamento"
        ],
        [
         "218060",
         "218061",
         "640.5173804585248",
         "698.146110809107",
         "Tratamento"
        ],
        [
         "286356",
         "286357",
         "507.93026682740174",
         "551.2206739034094",
         "Tratamento"
        ],
        [
         "952935",
         "952936",
         "531.3512178736523",
         "550.152529846926",
         "Tratamento"
        ],
        [
         "270981",
         "270982",
         "479.41254380170557",
         "510.01612157033253",
         "Tratamento"
        ],
        [
         "782231",
         "782232",
         "481.48132390727733",
         "506.15937132408243",
         "Tratamento"
        ],
        [
         "647865",
         "647866",
         "452.34283438354896",
         "481.5085791133124",
         "Tratamento"
        ],
        [
         "3821",
         "3822",
         "563.5136328464266",
         "592.5461853501355",
         "Tratamento"
        ],
        [
         "16487",
         "16488",
         "483.0012307876086",
         "516.558705598193",
         "Tratamento"
        ],
        [
         "527636",
         "527637",
         "472.5294460806929",
         "536.764594902155",
         "Tratamento"
        ],
        [
         "607627",
         "607628",
         "594.5059777127306",
         "629.0232475471005",
         "Tratamento"
        ],
        [
         "630214",
         "630215",
         "534.050680887872",
         "562.1101468557476",
         "Tratamento"
        ],
        [
         "833901",
         "833902",
         "520.9175094441667",
         "546.4420447114662",
         "Tratamento"
        ],
        [
         "561695",
         "561696",
         "488.06104091338824",
         "496.90916212923105",
         "Tratamento"
        ],
        [
         "640333",
         "640334",
         "579.6269171610821",
         "602.4496614213253",
         "Tratamento"
        ],
        [
         "180721",
         "180722",
         "455.814728356966",
         "465.0158664141278",
         "Tratamento"
        ],
        [
         "366920",
         "366921",
         "566.3165983290352",
         "609.6698361948187",
         "Tratamento"
        ],
        [
         "421379",
         "421380",
         "529.7125559751968",
         "576.1210371275096",
         "Tratamento"
        ],
        [
         "25830",
         "25831",
         "452.49134240020635",
         "477.9130676595888",
         "Tratamento"
        ],
        [
         "407580",
         "407581",
         "488.28709382760536",
         "540.8450150970401",
         "Tratamento"
        ],
        [
         "666193",
         "666194",
         "519.2840307368662",
         "544.5188092211731",
         "Tratamento"
        ],
        [
         "273606",
         "273607",
         "494.5760348846442",
         "514.2754258083943",
         "Tratamento"
        ],
        [
         "865210",
         "865211",
         "404.7550435285805",
         "435.2964420196775",
         "Tratamento"
        ],
        [
         "689485",
         "689486",
         "565.8048551776305",
         "580.613165857265",
         "Tratamento"
        ],
        [
         "257568",
         "257569",
         "564.8165932571984",
         "617.8607142926593",
         "Tratamento"
        ],
        [
         "556262",
         "556263",
         "568.1995284267865",
         "614.2914806508295",
         "Tratamento"
        ],
        [
         "507014",
         "507015",
         "489.1178325218264",
         "509.1579879560978",
         "Tratamento"
        ],
        [
         "414263",
         "414264",
         "505.2938890981168",
         "537.9819853841436",
         "Tratamento"
        ],
        [
         "180624",
         "180625",
         "588.340120912366",
         "637.9788485024959",
         "Tratamento"
        ],
        [
         "512623",
         "512624",
         "440.6812232290945",
         "466.8817753884011",
         "Tratamento"
        ],
        [
         "64290",
         "64291",
         "530.3625963178471",
         "557.582251942116",
         "Tratamento"
        ],
        [
         "629134",
         "629135",
         "503.22311229530453",
         "536.3480949403433",
         "Tratamento"
        ],
        [
         "480655",
         "480656",
         "525.1655504609608",
         "543.8834882903666",
         "Tratamento"
        ],
        [
         "530568",
         "530569",
         "509.24428071628404",
         "524.1973392759892",
         "Tratamento"
        ],
        [
         "552863",
         "552864",
         "586.2064291334976",
         "624.1550430186151",
         "Tratamento"
        ],
        [
         "813900",
         "813901",
         "506.1410716316917",
         "527.668005300764",
         "Tratamento"
        ],
        [
         "711411",
         "711412",
         "556.5539389188908",
         "606.6735266841074",
         "Tratamento"
        ],
        [
         "879165",
         "879166",
         "512.3266076262378",
         "552.0001724993995",
         "Tratamento"
        ],
        [
         "739003",
         "739004",
         "491.60649364637146",
         "532.104083039332",
         "Tratamento"
        ],
        [
         "1238",
         "1239",
         "475.5263897261099",
         "491.98627981252093",
         "Tratamento"
        ],
        [
         "580302",
         "580303",
         "577.4277110857349",
         "594.8156620010177",
         "Tratamento"
        ],
        [
         "153936",
         "153937",
         "597.1442653452098",
         "622.2010356780569",
         "Tratamento"
        ],
        [
         "420172",
         "420173",
         "581.1730709299221",
         "592.1200843578481",
         "Tratamento"
        ],
        [
         "733941",
         "733942",
         "490.3148960240664",
         "522.7682672242348",
         "Tratamento"
        ],
        [
         "403175",
         "403176",
         "446.5434914185828",
         "477.6706101561099",
         "Tratamento"
        ],
        [
         "151705",
         "151706",
         "532.0292168184608",
         "561.471896849841",
         "Tratamento"
        ],
        [
         "768039",
         "768040",
         "543.0861492711641",
         "568.8120378713985",
         "Tratamento"
        ],
        [
         "234036",
         "234037",
         "474.6583480099054",
         "492.6262149390495",
         "Tratamento"
        ]
       ],
       "shape": {
        "columns": 4,
        "rows": 9604
       }
      },
      "text/html": [
       "<div>\n",
       "<style scoped>\n",
       "    .dataframe tbody tr th:only-of-type {\n",
       "        vertical-align: middle;\n",
       "    }\n",
       "\n",
       "    .dataframe tbody tr th {\n",
       "        vertical-align: top;\n",
       "    }\n",
       "\n",
       "    .dataframe thead th {\n",
       "        text-align: right;\n",
       "    }\n",
       "</style>\n",
       "<table border=\"1\" class=\"dataframe\">\n",
       "  <thead>\n",
       "    <tr style=\"text-align: right;\">\n",
       "      <th></th>\n",
       "      <th>id</th>\n",
       "      <th>vendas</th>\n",
       "      <th>vendas_campanha</th>\n",
       "      <th>Grupo</th>\n",
       "    </tr>\n",
       "  </thead>\n",
       "  <tbody>\n",
       "    <tr>\n",
       "      <th>614658</th>\n",
       "      <td>614659</td>\n",
       "      <td>511.080610</td>\n",
       "      <td>534.934553</td>\n",
       "      <td>Tratamento</td>\n",
       "    </tr>\n",
       "    <tr>\n",
       "      <th>631567</th>\n",
       "      <td>631568</td>\n",
       "      <td>385.121028</td>\n",
       "      <td>420.890391</td>\n",
       "      <td>Tratamento</td>\n",
       "    </tr>\n",
       "    <tr>\n",
       "      <th>596499</th>\n",
       "      <td>596500</td>\n",
       "      <td>490.942402</td>\n",
       "      <td>520.401140</td>\n",
       "      <td>Tratamento</td>\n",
       "    </tr>\n",
       "    <tr>\n",
       "      <th>218060</th>\n",
       "      <td>218061</td>\n",
       "      <td>640.517380</td>\n",
       "      <td>698.146111</td>\n",
       "      <td>Tratamento</td>\n",
       "    </tr>\n",
       "    <tr>\n",
       "      <th>286356</th>\n",
       "      <td>286357</td>\n",
       "      <td>507.930267</td>\n",
       "      <td>551.220674</td>\n",
       "      <td>Tratamento</td>\n",
       "    </tr>\n",
       "    <tr>\n",
       "      <th>...</th>\n",
       "      <td>...</td>\n",
       "      <td>...</td>\n",
       "      <td>...</td>\n",
       "      <td>...</td>\n",
       "    </tr>\n",
       "    <tr>\n",
       "      <th>674239</th>\n",
       "      <td>674240</td>\n",
       "      <td>387.474166</td>\n",
       "      <td>381.134438</td>\n",
       "      <td>Controle</td>\n",
       "    </tr>\n",
       "    <tr>\n",
       "      <th>257758</th>\n",
       "      <td>257759</td>\n",
       "      <td>428.200373</td>\n",
       "      <td>421.639246</td>\n",
       "      <td>Controle</td>\n",
       "    </tr>\n",
       "    <tr>\n",
       "      <th>342253</th>\n",
       "      <td>342254</td>\n",
       "      <td>456.652571</td>\n",
       "      <td>468.993737</td>\n",
       "      <td>Controle</td>\n",
       "    </tr>\n",
       "    <tr>\n",
       "      <th>211718</th>\n",
       "      <td>211719</td>\n",
       "      <td>561.360241</td>\n",
       "      <td>550.690852</td>\n",
       "      <td>Controle</td>\n",
       "    </tr>\n",
       "    <tr>\n",
       "      <th>904810</th>\n",
       "      <td>904811</td>\n",
       "      <td>537.893926</td>\n",
       "      <td>526.354813</td>\n",
       "      <td>Controle</td>\n",
       "    </tr>\n",
       "  </tbody>\n",
       "</table>\n",
       "<p>9604 rows × 4 columns</p>\n",
       "</div>"
      ],
      "text/plain": [
       "            id      vendas  vendas_campanha       Grupo\n",
       "614658  614659  511.080610       534.934553  Tratamento\n",
       "631567  631568  385.121028       420.890391  Tratamento\n",
       "596499  596500  490.942402       520.401140  Tratamento\n",
       "218060  218061  640.517380       698.146111  Tratamento\n",
       "286356  286357  507.930267       551.220674  Tratamento\n",
       "...        ...         ...              ...         ...\n",
       "674239  674240  387.474166       381.134438    Controle\n",
       "257758  257759  428.200373       421.639246    Controle\n",
       "342253  342254  456.652571       468.993737    Controle\n",
       "211718  211719  561.360241       550.690852    Controle\n",
       "904810  904811  537.893926       526.354813    Controle\n",
       "\n",
       "[9604 rows x 4 columns]"
      ]
     },
     "execution_count": 34,
     "metadata": {},
     "output_type": "execute_result"
    }
   ],
   "source": [
    "grupos = pd.concat([grupo_tratamento, grupo_controle])\n",
    "grupos\n"
   ]
  },
  {
   "cell_type": "markdown",
   "metadata": {},
   "source": [
    "#### Normalidade com Q-Q Plot"
   ]
  },
  {
   "cell_type": "code",
   "execution_count": 36,
   "metadata": {},
   "outputs": [
    {
     "data": {
      "image/png": "[encoded data removed]",
      "text/plain": [
       "<Figure size 1200x500 with 2 Axes>"
      ]
     },
     "metadata": {},
     "output_type": "display_data"
    }
   ],
   "source": [
    "\n",
    "plt.figure(figsize=(12, 5))\n",
    "\n",
    "plt.subplot(1, 2, 1)\n",
    "stats.probplot(grupo_tratamento['vendas_campanha'], dist = 'norm', plot = plt)\n",
    "plt.title(\"Teste Normalidade - Grupo Tratamento\")\n",
    "\n",
    "\n",
    "plt.subplot(1, 2, 2)\n",
    "stats.probplot(grupo_controle['vendas_campanha'], dist = 'norm', plot = plt)\n",
    "plt.title(\"Teste Normalidade - Grupo Controle\")\n",
    "plt.show()"
   ]
  },
  {
   "cell_type": "markdown",
   "metadata": {},
   "source": [
    "#### Teste de Anderson-Darling (para cada grupo)\n",
    "\n",
    "Após observar o gráfico Q-Q Plot, as extremidades dos dados da nossa amostra possuem uma leve variação e é considerado grande para o nossos futuros testes. Por este motivo resolvi aplicar o teste de normalidade de Anderson-Darling que é mais indicador quando temos um conjunto de dados maior e variabilidade nas extremidades.\n",
    "\n",
    "*O motivo de não aplicar o teste de **Komogorov-Smirnov** é que por mais ele atenda ao tamanho do conjunto de dados que possuímos, ele acaba sendo mais sensível a pequenas variações nas extremidades dos dados.*"
   ]
  },
  {
   "cell_type": "code",
   "execution_count": null,
   "metadata": {},
   "outputs": [
    {
     "name": "stdout",
     "output_type": "stream",
     "text": [
      "Teste de Anderson-Darling:\n",
      "Estatística de teste: 0.6030070188098762\n",
      "Valores críticos:  [0.576 0.656 0.787 0.917 1.091]\n",
      "Níveis de significância:  [15.  10.   5.   2.5  1. ]\n"
     ]
    }
   ],
   "source": [
    "# Grupo Tratamento\n",
    "ad_gt = stats.anderson(grupo_tratamento['vendas_campanha'], dist = 'norm')\n",
    "\n",
    "print(\"Teste de Anderson-Darling:\")\n",
    "print(f\"Estatística de teste: {ad_gt.statistic}\")\n",
    "print(\"Valores críticos: \", ad_gt.critical_values)\n",
    "print(\"Níveis de significância: \", ad_gt.significance_level)"
   ]
  },
  {
   "cell_type": "code",
   "execution_count": null,
   "metadata": {},
   "outputs": [
    {
     "name": "stdout",
     "output_type": "stream",
     "text": [
      "Teste de Anderson-Darling:\n",
      "Estatística de teste: 0.45750029872760933\n",
      "Valores críticos:  [0.575 0.655 0.786 0.917 1.09 ]\n",
      "Níveis de significância:  [15.  10.   5.   2.5  1. ]\n"
     ]
    }
   ],
   "source": [
    "# Grupo Controle\n",
    "ad_gt = stats.anderson(grupo_controle['vendas_campanha'], dist = 'norm')\n",
    "\n",
    "print(\"Teste de Anderson-Darling:\")\n",
    "print(f\"Estatística de teste: {ad_gt.statistic}\")\n",
    "print(\"Valores críticos: \", ad_gt.critical_values)\n",
    "print(\"Níveis de significância: \", ad_gt.significance_level)"
   ]
  },
  {
   "cell_type": "markdown",
   "metadata": {},
   "source": [
    "#### Homogeneidade das Variancias- Teste de Levene"
   ]
  },
  {
   "cell_type": "markdown",
   "metadata": {},
   "source": [
    "O teste calcula uma estatística W, que mede a diferença entre as médias dos desvios absolutos dos grupos em relação às suas médias.\n",
    "\n",
    "Usado para verificar se dois ou mais grupos têm variância iguais.\n",
    "\n",
    "Essa é uma suposição importante para muitos testes estatísticos, como o `teste t` e `ANOVA`\n",
    "\n",
    "\n",
    "---\n",
    "* `Teste t:` variâncias diferentes, faz com que o teste t seja menos confiável. Neste caso, usamos o `teste t de Welch`, que não assume variâncias iguais.\n",
    "\n",
    "---"
   ]
  },
  {
   "cell_type": "code",
   "execution_count": 43,
   "metadata": {},
   "outputs": [
    {
     "name": "stdout",
     "output_type": "stream",
     "text": [
      "Estatística de Levene: 4.302699056019413\n",
      "p-valor: 0.03807851991468202\n",
      "Rejeitamos H0. A variância é heterogênea\n"
     ]
    }
   ],
   "source": [
    "stat, p_valor = levene(grupo_controle['vendas_campanha'], grupo_tratamento['vendas_campanha'])\n",
    "\n",
    "print(f'Estatística de Levene: {stat}')\n",
    "print(f'p-valor: {p_valor}')\n",
    "\n",
    "if p_valor < 0.05:\n",
    "    print('Rejeitamos H0. A variância é heterogênea')\n",
    "else:\n",
    "    print('Não há evidências suficientes para rejeitar H0. A variância é homogênea!')"
   ]
  },
  {
   "cell_type": "markdown",
   "metadata": {},
   "source": [
    "#### Teste de Independência"
   ]
  },
  {
   "cell_type": "markdown",
   "metadata": {},
   "source": [
    "A independência significa que as observações de um grupo não influenciam as observações do outro grupo. Isso é garantido pelo desenho experimental (grupos separados).\n",
    "\n",
    "\n",
    "Se as observações não forem independentes, o teste t pode dar resultados incorretos."
   ]
  },
  {
   "cell_type": "markdown",
   "metadata": {},
   "source": [
    "#### `Teste t de Welch`\n",
    "\n",
    " Valores positivos da *Estatística do teste* indicam que o grupo tratamento teve vendas maiores que o controle."
   ]
  },
  {
   "cell_type": "code",
   "execution_count": 47,
   "metadata": {},
   "outputs": [],
   "source": [
    "t_stat, p_value = ttest_ind(grupo_tratamento['vendas_campanha'], grupo_controle['vendas_campanha'], equal_var = False)\n"
   ]
  },
  {
   "cell_type": "code",
   "execution_count": 48,
   "metadata": {},
   "outputs": [
    {
     "name": "stdout",
     "output_type": "stream",
     "text": [
      "Estatística do teste (t): 25.468208169099295\n",
      "Valor-p: 4.0217815546842403e-135\n",
      "Rejeitamos a Hipótese Nula. Houve um impacto significativo nas campanha de marketing\n"
     ]
    }
   ],
   "source": [
    "print(f'Estatística do teste (t): {t_stat}')\n",
    "print(f'Valor-p: {p_value}')\n",
    "\n",
    "if p_value < 0.05:\n",
    "    print(\"Rejeitamos a Hipótese Nula. Houve um impacto significativo nas campanha de marketing\")\n",
    "else:\n",
    "    print(\"Não há evidências suficientes para rejeitar a hipótese nula. Não houve impacto a partir da campanha!\")"
   ]
  },
  {
   "cell_type": "markdown",
   "metadata": {},
   "source": [
    "#### Tamanho do Efeito - Cohen's d"
   ]
  },
  {
   "attachments": {
    "image-2.png": {
     "image/png": "[encoded data removed]"
    }
   },
   "cell_type": "markdown",
   "metadata": {},
   "source": [
    "![image-2.png](attachment:image-2.png)"
   ]
  },
  {
   "cell_type": "code",
   "execution_count": 49,
   "metadata": {},
   "outputs": [
    {
     "name": "stdout",
     "output_type": "stream",
     "text": [
      "Cohen's d: 0.57\n",
      "Efeito grande!\n"
     ]
    }
   ],
   "source": [
    "def cohens_d(grupo1, grupo2):\n",
    "    n1, n2 = len(grupo1), len(grupo2)\n",
    "    var1, var2 = np.var(grupo1, ddof=1), np.var(grupo2, ddof=1)\n",
    "    s_p = np.sqrt(((n1 - 1) * var1 + (n2 - 1) * var2) / (n1 + n2 - 2))\n",
    "    return (np.mean(grupo1) - np.mean(grupo2)) / s_p\n",
    "\n",
    "d = cohens_d(grupo_tratamento['vendas_campanha'], grupo_controle['vendas_campanha'])\n",
    "\n",
    "if d < 0.2:\n",
    "    print(f\"Cohen's d: {d:.2f}\\nEfeito pequeno!\")\n",
    "elif d <= 0.5:\n",
    "     print(f\"Cohen's d: {d:.2f}\\nEfeito médio!\")\n",
    "else:\n",
    "     print(f\"Cohen's d: {d:.2f}\\nEfeito grande!\")"
   ]
  },
  {
   "cell_type": "markdown",
   "metadata": {},
   "source": [
    "`O tamanho do efeito está entre moderado e grande, e, neste caso, o grupo que recebeu os cupons teve um desempenho melhor do que os clientes pertencentes ao grupo que não recebeu os cupons.`"
   ]
  }
 ],
 "metadata": {
  "kernelspec": {
   "display_name": "base",
   "language": "python",
   "name": "python3"
  },
  "language_info": {
   "codemirror_mode": {
    "name": "ipython",
    "version": 3
   },
   "file_extension": ".py",
   "mimetype": "text/x-python",
   "name": "python",
   "nbconvert_exporter": "python",
   "pygments_lexer": "ipython3",
   "version": "3.12.4"
  }
 },
 "nbformat": 4,
 "nbformat_minor": 2
}
